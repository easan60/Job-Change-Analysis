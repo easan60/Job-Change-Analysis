{
 "cells": [
  {
   "cell_type": "markdown",
   "id": "4e7eb713",
   "metadata": {},
   "source": [
    "## Job Change Analysis"
   ]
  },
  {
   "cell_type": "markdown",
   "id": "ccf8a669",
   "metadata": {},
   "source": [
    "Goal:predict the likelihood of a candidate seeking a new job or working for the company, as well as interpreting the influencing factors on the employee decision."
   ]
  },
  {
   "cell_type": "code",
   "execution_count": 70,
   "id": "663d656e",
   "metadata": {},
   "outputs": [],
   "source": [
    "import numpy as np\n",
    "import pandas as pd\n",
    "import matplotlib.pyplot as plt\n",
    "import seaborn as sns\n",
    "import warnings\n",
    "import datetime\n",
    "warnings.filterwarnings(\"ignore\")\n",
    "%matplotlib inline"
   ]
  },
  {
   "cell_type": "code",
   "execution_count": 71,
   "id": "91edd2e4",
   "metadata": {},
   "outputs": [],
   "source": [
    "df=pd.read_csv(\"aug_train.csv\")"
   ]
  },
  {
   "cell_type": "code",
   "execution_count": 72,
   "id": "439430c0",
   "metadata": {},
   "outputs": [
    {
     "data": {
      "text/html": [
       "<div>\n",
       "<style scoped>\n",
       "    .dataframe tbody tr th:only-of-type {\n",
       "        vertical-align: middle;\n",
       "    }\n",
       "\n",
       "    .dataframe tbody tr th {\n",
       "        vertical-align: top;\n",
       "    }\n",
       "\n",
       "    .dataframe thead th {\n",
       "        text-align: right;\n",
       "    }\n",
       "</style>\n",
       "<table border=\"1\" class=\"dataframe\">\n",
       "  <thead>\n",
       "    <tr style=\"text-align: right;\">\n",
       "      <th></th>\n",
       "      <th>enrollee_id</th>\n",
       "      <th>city</th>\n",
       "      <th>city_development_index</th>\n",
       "      <th>gender</th>\n",
       "      <th>relevent_experience</th>\n",
       "      <th>enrolled_university</th>\n",
       "      <th>education_level</th>\n",
       "      <th>major_discipline</th>\n",
       "      <th>experience</th>\n",
       "      <th>company_size</th>\n",
       "      <th>company_type</th>\n",
       "      <th>last_new_job</th>\n",
       "      <th>training_hours</th>\n",
       "      <th>target</th>\n",
       "    </tr>\n",
       "  </thead>\n",
       "  <tbody>\n",
       "    <tr>\n",
       "      <th>0</th>\n",
       "      <td>8949</td>\n",
       "      <td>city_103</td>\n",
       "      <td>0.920</td>\n",
       "      <td>Male</td>\n",
       "      <td>Has relevent experience</td>\n",
       "      <td>no_enrollment</td>\n",
       "      <td>Graduate</td>\n",
       "      <td>STEM</td>\n",
       "      <td>&gt;20</td>\n",
       "      <td>NaN</td>\n",
       "      <td>NaN</td>\n",
       "      <td>1</td>\n",
       "      <td>36</td>\n",
       "      <td>1.0</td>\n",
       "    </tr>\n",
       "    <tr>\n",
       "      <th>1</th>\n",
       "      <td>29725</td>\n",
       "      <td>city_40</td>\n",
       "      <td>0.776</td>\n",
       "      <td>Male</td>\n",
       "      <td>No relevent experience</td>\n",
       "      <td>no_enrollment</td>\n",
       "      <td>Graduate</td>\n",
       "      <td>STEM</td>\n",
       "      <td>15</td>\n",
       "      <td>50-99</td>\n",
       "      <td>Pvt Ltd</td>\n",
       "      <td>&gt;4</td>\n",
       "      <td>47</td>\n",
       "      <td>0.0</td>\n",
       "    </tr>\n",
       "    <tr>\n",
       "      <th>2</th>\n",
       "      <td>11561</td>\n",
       "      <td>city_21</td>\n",
       "      <td>0.624</td>\n",
       "      <td>NaN</td>\n",
       "      <td>No relevent experience</td>\n",
       "      <td>Full time course</td>\n",
       "      <td>Graduate</td>\n",
       "      <td>STEM</td>\n",
       "      <td>5</td>\n",
       "      <td>NaN</td>\n",
       "      <td>NaN</td>\n",
       "      <td>never</td>\n",
       "      <td>83</td>\n",
       "      <td>0.0</td>\n",
       "    </tr>\n",
       "    <tr>\n",
       "      <th>3</th>\n",
       "      <td>33241</td>\n",
       "      <td>city_115</td>\n",
       "      <td>0.789</td>\n",
       "      <td>NaN</td>\n",
       "      <td>No relevent experience</td>\n",
       "      <td>NaN</td>\n",
       "      <td>Graduate</td>\n",
       "      <td>Business Degree</td>\n",
       "      <td>&lt;1</td>\n",
       "      <td>NaN</td>\n",
       "      <td>Pvt Ltd</td>\n",
       "      <td>never</td>\n",
       "      <td>52</td>\n",
       "      <td>1.0</td>\n",
       "    </tr>\n",
       "    <tr>\n",
       "      <th>4</th>\n",
       "      <td>666</td>\n",
       "      <td>city_162</td>\n",
       "      <td>0.767</td>\n",
       "      <td>Male</td>\n",
       "      <td>Has relevent experience</td>\n",
       "      <td>no_enrollment</td>\n",
       "      <td>Masters</td>\n",
       "      <td>STEM</td>\n",
       "      <td>&gt;20</td>\n",
       "      <td>50-99</td>\n",
       "      <td>Funded Startup</td>\n",
       "      <td>4</td>\n",
       "      <td>8</td>\n",
       "      <td>0.0</td>\n",
       "    </tr>\n",
       "  </tbody>\n",
       "</table>\n",
       "</div>"
      ],
      "text/plain": [
       "   enrollee_id      city  city_development_index gender  \\\n",
       "0         8949  city_103                   0.920   Male   \n",
       "1        29725   city_40                   0.776   Male   \n",
       "2        11561   city_21                   0.624    NaN   \n",
       "3        33241  city_115                   0.789    NaN   \n",
       "4          666  city_162                   0.767   Male   \n",
       "\n",
       "       relevent_experience enrolled_university education_level  \\\n",
       "0  Has relevent experience       no_enrollment        Graduate   \n",
       "1   No relevent experience       no_enrollment        Graduate   \n",
       "2   No relevent experience    Full time course        Graduate   \n",
       "3   No relevent experience                 NaN        Graduate   \n",
       "4  Has relevent experience       no_enrollment         Masters   \n",
       "\n",
       "  major_discipline experience company_size    company_type last_new_job  \\\n",
       "0             STEM        >20          NaN             NaN            1   \n",
       "1             STEM         15        50-99         Pvt Ltd           >4   \n",
       "2             STEM          5          NaN             NaN        never   \n",
       "3  Business Degree         <1          NaN         Pvt Ltd        never   \n",
       "4             STEM        >20        50-99  Funded Startup            4   \n",
       "\n",
       "   training_hours  target  \n",
       "0              36     1.0  \n",
       "1              47     0.0  \n",
       "2              83     0.0  \n",
       "3              52     1.0  \n",
       "4               8     0.0  "
      ]
     },
     "execution_count": 72,
     "metadata": {},
     "output_type": "execute_result"
    }
   ],
   "source": [
    "df.head()"
   ]
  },
  {
   "cell_type": "code",
   "execution_count": 73,
   "id": "9f875cf2",
   "metadata": {},
   "outputs": [
    {
     "data": {
      "text/html": [
       "<div>\n",
       "<style scoped>\n",
       "    .dataframe tbody tr th:only-of-type {\n",
       "        vertical-align: middle;\n",
       "    }\n",
       "\n",
       "    .dataframe tbody tr th {\n",
       "        vertical-align: top;\n",
       "    }\n",
       "\n",
       "    .dataframe thead th {\n",
       "        text-align: right;\n",
       "    }\n",
       "</style>\n",
       "<table border=\"1\" class=\"dataframe\">\n",
       "  <thead>\n",
       "    <tr style=\"text-align: right;\">\n",
       "      <th></th>\n",
       "      <th>enrollee_id</th>\n",
       "      <th>city</th>\n",
       "      <th>city_development_index</th>\n",
       "      <th>gender</th>\n",
       "      <th>relevent_experience</th>\n",
       "      <th>enrolled_university</th>\n",
       "      <th>education_level</th>\n",
       "      <th>major_discipline</th>\n",
       "      <th>experience</th>\n",
       "      <th>company_size</th>\n",
       "      <th>company_type</th>\n",
       "      <th>last_new_job</th>\n",
       "      <th>training_hours</th>\n",
       "      <th>target</th>\n",
       "    </tr>\n",
       "  </thead>\n",
       "  <tbody>\n",
       "    <tr>\n",
       "      <th>19153</th>\n",
       "      <td>7386</td>\n",
       "      <td>city_173</td>\n",
       "      <td>0.878</td>\n",
       "      <td>Male</td>\n",
       "      <td>No relevent experience</td>\n",
       "      <td>no_enrollment</td>\n",
       "      <td>Graduate</td>\n",
       "      <td>Humanities</td>\n",
       "      <td>14</td>\n",
       "      <td>NaN</td>\n",
       "      <td>NaN</td>\n",
       "      <td>1</td>\n",
       "      <td>42</td>\n",
       "      <td>1.0</td>\n",
       "    </tr>\n",
       "    <tr>\n",
       "      <th>19154</th>\n",
       "      <td>31398</td>\n",
       "      <td>city_103</td>\n",
       "      <td>0.920</td>\n",
       "      <td>Male</td>\n",
       "      <td>Has relevent experience</td>\n",
       "      <td>no_enrollment</td>\n",
       "      <td>Graduate</td>\n",
       "      <td>STEM</td>\n",
       "      <td>14</td>\n",
       "      <td>NaN</td>\n",
       "      <td>NaN</td>\n",
       "      <td>4</td>\n",
       "      <td>52</td>\n",
       "      <td>1.0</td>\n",
       "    </tr>\n",
       "    <tr>\n",
       "      <th>19155</th>\n",
       "      <td>24576</td>\n",
       "      <td>city_103</td>\n",
       "      <td>0.920</td>\n",
       "      <td>Male</td>\n",
       "      <td>Has relevent experience</td>\n",
       "      <td>no_enrollment</td>\n",
       "      <td>Graduate</td>\n",
       "      <td>STEM</td>\n",
       "      <td>&gt;20</td>\n",
       "      <td>50-99</td>\n",
       "      <td>Pvt Ltd</td>\n",
       "      <td>4</td>\n",
       "      <td>44</td>\n",
       "      <td>0.0</td>\n",
       "    </tr>\n",
       "    <tr>\n",
       "      <th>19156</th>\n",
       "      <td>5756</td>\n",
       "      <td>city_65</td>\n",
       "      <td>0.802</td>\n",
       "      <td>Male</td>\n",
       "      <td>Has relevent experience</td>\n",
       "      <td>no_enrollment</td>\n",
       "      <td>High School</td>\n",
       "      <td>NaN</td>\n",
       "      <td>&lt;1</td>\n",
       "      <td>500-999</td>\n",
       "      <td>Pvt Ltd</td>\n",
       "      <td>2</td>\n",
       "      <td>97</td>\n",
       "      <td>0.0</td>\n",
       "    </tr>\n",
       "    <tr>\n",
       "      <th>19157</th>\n",
       "      <td>23834</td>\n",
       "      <td>city_67</td>\n",
       "      <td>0.855</td>\n",
       "      <td>NaN</td>\n",
       "      <td>No relevent experience</td>\n",
       "      <td>no_enrollment</td>\n",
       "      <td>Primary School</td>\n",
       "      <td>NaN</td>\n",
       "      <td>2</td>\n",
       "      <td>NaN</td>\n",
       "      <td>NaN</td>\n",
       "      <td>1</td>\n",
       "      <td>127</td>\n",
       "      <td>0.0</td>\n",
       "    </tr>\n",
       "  </tbody>\n",
       "</table>\n",
       "</div>"
      ],
      "text/plain": [
       "       enrollee_id      city  city_development_index gender  \\\n",
       "19153         7386  city_173                   0.878   Male   \n",
       "19154        31398  city_103                   0.920   Male   \n",
       "19155        24576  city_103                   0.920   Male   \n",
       "19156         5756   city_65                   0.802   Male   \n",
       "19157        23834   city_67                   0.855    NaN   \n",
       "\n",
       "           relevent_experience enrolled_university education_level  \\\n",
       "19153   No relevent experience       no_enrollment        Graduate   \n",
       "19154  Has relevent experience       no_enrollment        Graduate   \n",
       "19155  Has relevent experience       no_enrollment        Graduate   \n",
       "19156  Has relevent experience       no_enrollment     High School   \n",
       "19157   No relevent experience       no_enrollment  Primary School   \n",
       "\n",
       "      major_discipline experience company_size company_type last_new_job  \\\n",
       "19153       Humanities         14          NaN          NaN            1   \n",
       "19154             STEM         14          NaN          NaN            4   \n",
       "19155             STEM        >20        50-99      Pvt Ltd            4   \n",
       "19156              NaN         <1      500-999      Pvt Ltd            2   \n",
       "19157              NaN          2          NaN          NaN            1   \n",
       "\n",
       "       training_hours  target  \n",
       "19153              42     1.0  \n",
       "19154              52     1.0  \n",
       "19155              44     0.0  \n",
       "19156              97     0.0  \n",
       "19157             127     0.0  "
      ]
     },
     "execution_count": 73,
     "metadata": {},
     "output_type": "execute_result"
    }
   ],
   "source": [
    "df.tail()"
   ]
  },
  {
   "cell_type": "code",
   "execution_count": 74,
   "id": "4efc7b62",
   "metadata": {},
   "outputs": [],
   "source": [
    "df.drop([\"enrollee_id\",\"city\"],axis=1,inplace=True)"
   ]
  },
  {
   "cell_type": "code",
   "execution_count": 75,
   "id": "ac920b94",
   "metadata": {},
   "outputs": [
    {
     "name": "stdout",
     "output_type": "stream",
     "text": [
      "<class 'pandas.core.frame.DataFrame'>\n",
      "RangeIndex: 19158 entries, 0 to 19157\n",
      "Data columns (total 12 columns):\n",
      " #   Column                  Non-Null Count  Dtype  \n",
      "---  ------                  --------------  -----  \n",
      " 0   city_development_index  19158 non-null  float64\n",
      " 1   gender                  14650 non-null  object \n",
      " 2   relevent_experience     19158 non-null  object \n",
      " 3   enrolled_university     18772 non-null  object \n",
      " 4   education_level         18698 non-null  object \n",
      " 5   major_discipline        16345 non-null  object \n",
      " 6   experience              19093 non-null  object \n",
      " 7   company_size            13220 non-null  object \n",
      " 8   company_type            13018 non-null  object \n",
      " 9   last_new_job            18735 non-null  object \n",
      " 10  training_hours          19158 non-null  int64  \n",
      " 11  target                  19158 non-null  float64\n",
      "dtypes: float64(2), int64(1), object(9)\n",
      "memory usage: 1.8+ MB\n"
     ]
    }
   ],
   "source": [
    "df.info()"
   ]
  },
  {
   "cell_type": "code",
   "execution_count": 76,
   "id": "67cdf420",
   "metadata": {},
   "outputs": [
    {
     "data": {
      "text/plain": [
       "city_development_index       0\n",
       "gender                    4508\n",
       "relevent_experience          0\n",
       "enrolled_university        386\n",
       "education_level            460\n",
       "major_discipline          2813\n",
       "experience                  65\n",
       "company_size              5938\n",
       "company_type              6140\n",
       "last_new_job               423\n",
       "training_hours               0\n",
       "target                       0\n",
       "dtype: int64"
      ]
     },
     "execution_count": 76,
     "metadata": {},
     "output_type": "execute_result"
    }
   ],
   "source": [
    "df.isnull().sum()"
   ]
  },
  {
   "cell_type": "code",
   "execution_count": 77,
   "id": "054a4877",
   "metadata": {},
   "outputs": [
    {
     "data": {
      "text/plain": [
       "<AxesSubplot:xlabel='experience'>"
      ]
     },
     "execution_count": 77,
     "metadata": {},
     "output_type": "execute_result"
    },
    {
     "data": {
      "image/png": "[encoded data removed]",
      "text/plain": [
       "<Figure size 432x288 with 1 Axes>"
      ]
     },
     "metadata": {
      "needs_background": "light"
     },
     "output_type": "display_data"
    }
   ],
   "source": [
    "df[\"experience\"].replace({np.NaN:0,\">20\":22,\"<1\":0},inplace=True)\n",
    "df[\"experience\"]=df[\"experience\"].astype(float)\n",
    "sns.boxplot(df.experience)"
   ]
  },
  {
   "cell_type": "code",
   "execution_count": 78,
   "id": "bf6e58d3",
   "metadata": {},
   "outputs": [
    {
     "data": {
      "text/plain": [
       "<AxesSubplot:xlabel='last_new_job'>"
      ]
     },
     "execution_count": 78,
     "metadata": {},
     "output_type": "execute_result"
    },
    {
     "data": {
      "image/png": "[encoded data removed]",
      "text/plain": [
       "<Figure size 432x288 with 1 Axes>"
      ]
     },
     "metadata": {
      "needs_background": "light"
     },
     "output_type": "display_data"
    }
   ],
   "source": [
    "df[\"last_new_job\"].replace({np.NaN:0,\">4\":5,\"never\":0},inplace=True)\n",
    "df[\"last_new_job\"]=df[\"last_new_job\"].astype(float)\n",
    "sns.boxplot(df.last_new_job)"
   ]
  },
  {
   "cell_type": "code",
   "execution_count": 79,
   "id": "c2668e58",
   "metadata": {},
   "outputs": [
    {
     "data": {
      "text/plain": [
       "<AxesSubplot:xlabel='city_development_index'>"
      ]
     },
     "execution_count": 79,
     "metadata": {},
     "output_type": "execute_result"
    },
    {
     "data": {
      "image/png": "[encoded data removed]",
      "text/plain": [
       "<Figure size 432x288 with 1 Axes>"
      ]
     },
     "metadata": {
      "needs_background": "light"
     },
     "output_type": "display_data"
    }
   ],
   "source": [
    "sns.boxplot(df[\"city_development_index\"])"
   ]
  },
  {
   "cell_type": "code",
   "execution_count": 80,
   "id": "e5cf75f9",
   "metadata": {},
   "outputs": [
    {
     "data": {
      "text/plain": [
       "<AxesSubplot:>"
      ]
     },
     "execution_count": 80,
     "metadata": {},
     "output_type": "execute_result"
    },
    {
     "data": {
      "image/png": "[encoded data removed]",
      "text/plain": [
       "<Figure size 432x288 with 1 Axes>"
      ]
     },
     "metadata": {
      "needs_background": "light"
     },
     "output_type": "display_data"
    }
   ],
   "source": [
    "df.gender.value_counts().plot.bar()"
   ]
  },
  {
   "cell_type": "code",
   "execution_count": 81,
   "id": "ebbf77c4",
   "metadata": {},
   "outputs": [
    {
     "data": {
      "text/plain": [
       "<AxesSubplot:>"
      ]
     },
     "execution_count": 81,
     "metadata": {},
     "output_type": "execute_result"
    },
    {
     "data": {
      "image/png": "[encoded data removed]",
      "text/plain": [
       "<Figure size 432x288 with 1 Axes>"
      ]
     },
     "metadata": {
      "needs_background": "light"
     },
     "output_type": "display_data"
    }
   ],
   "source": [
    "df[\"relevent_experience\"].replace({\"Has relevent experience\":\"YES\",\"No relevent experience\":\"NO\"},inplace=True)\n",
    "df[\"relevent_experience\"].value_counts().plot.bar()"
   ]
  },
  {
   "cell_type": "code",
   "execution_count": 82,
   "id": "5e54227c",
   "metadata": {},
   "outputs": [],
   "source": [
    "def company_size_normal(x):\n",
    "    if x == \"<10\":\n",
    "        return \"LOCAL\"\n",
    "    elif x == \"50-99\" or x == \"10/49\":\n",
    "        return \"SMALL\"\n",
    "    elif x == \"100-500\":\n",
    "        return \"MEDIUM_SCALE\"\n",
    "    elif x == \"500-999\":\n",
    "        return \"UPPER_SCALE\"\n",
    "    elif x == \"1000-4999\" or x == \"5000-9999\":\n",
    "        return \"EXTENDED\"\n",
    "    elif x == \"10000+\":\n",
    "        return \"LARGE_SCALE\""
   ]
  },
  {
   "cell_type": "code",
   "execution_count": 83,
   "id": "6739a2a0",
   "metadata": {},
   "outputs": [],
   "source": [
    "def last_new_job_normal(x):\n",
    "    if x == 0:\n",
    "        return \"NEVER\"\n",
    "    elif 0 < x <= 2:\n",
    "        return \"LITTLE_TIME\"\n",
    "    elif x > 2:\n",
    "        return \"WAITING_TOO_MUCH\"\n",
    "    else:\n",
    "        pass"
   ]
  },
  {
   "cell_type": "code",
   "execution_count": 84,
   "id": "5adee10c",
   "metadata": {},
   "outputs": [],
   "source": [
    "def experience_normal(x):  \n",
    "    if x == 0:\n",
    "        return 0\n",
    "    elif 0 < x <= 3:\n",
    "        return \"JUNIOR\"\n",
    "    elif 3 < x <= 7:\n",
    "        return \"MIDDLE_EXPERIENCE\"\n",
    "    elif 7 < x <= 15:\n",
    "        return \"SENIOR\"\n",
    "    elif x > 15:\n",
    "        return \"DOMINATE_BUSINESS\""
   ]
  },
  {
   "cell_type": "code",
   "execution_count": 85,
   "id": "33f0b4b4",
   "metadata": {},
   "outputs": [],
   "source": [
    "def city_index_normal(x):\n",
    "    if x > 0:\n",
    "        return \"%.2f\" % x"
   ]
  },
  {
   "cell_type": "code",
   "execution_count": 86,
   "id": "e7cfb153",
   "metadata": {},
   "outputs": [],
   "source": [
    "df[\"company_size\"] = df[\"company_size\"].apply(lambda x: company_size_normal(x))\n",
    "df[\"experience\"] = df[\"experience\"].apply(lambda x: experience_normal(x))\n",
    "df[\"last_new_job\"] = df[\"last_new_job\"].apply(lambda x: last_new_job_normal(x))\n",
    "df[\"city_development_index\"] = df[\"city_development_index\"].apply(lambda x: city_index_normal(x))"
   ]
  },
  {
   "cell_type": "code",
   "execution_count": 87,
   "id": "4a163307",
   "metadata": {},
   "outputs": [],
   "source": [
    "df[\"city_development_index\"] = df[\"city_development_index\"].astype(float)"
   ]
  },
  {
   "cell_type": "code",
   "execution_count": 88,
   "id": "cd08d9d1",
   "metadata": {},
   "outputs": [],
   "source": [
    "df[\"gender\"].fillna(df[\"gender\"].mode()[0],inplace=True)"
   ]
  },
  {
   "cell_type": "code",
   "execution_count": 89,
   "id": "c68f6159",
   "metadata": {},
   "outputs": [],
   "source": [
    "df[\"enrolled_university\"].fillna(df[\"enrolled_university\"].mode()[0],inplace=True)"
   ]
  },
  {
   "cell_type": "code",
   "execution_count": 90,
   "id": "f84eab23",
   "metadata": {},
   "outputs": [],
   "source": [
    "df[\"education_level\"].fillna(df[\"education_level\"].mode()[0],inplace=True)"
   ]
  },
  {
   "cell_type": "code",
   "execution_count": 91,
   "id": "71750e3c",
   "metadata": {},
   "outputs": [],
   "source": [
    "df[\"major_discipline\"].fillna(df[\"major_discipline\"].mode()[0],inplace=True)"
   ]
  },
  {
   "cell_type": "code",
   "execution_count": 92,
   "id": "50671028",
   "metadata": {},
   "outputs": [],
   "source": [
    "df[\"experience\"].fillna(df[\"experience\"].mode()[0],inplace=True)"
   ]
  },
  {
   "cell_type": "code",
   "execution_count": 93,
   "id": "85617108",
   "metadata": {},
   "outputs": [],
   "source": [
    "df[\"company_type\"].fillna(df[\"company_type\"].mode()[0],inplace=True)"
   ]
  },
  {
   "cell_type": "code",
   "execution_count": 94,
   "id": "e3e41265",
   "metadata": {},
   "outputs": [],
   "source": [
    "df[\"company_size\"].fillna(df[\"company_size\"].mode()[0],inplace=True)"
   ]
  },
  {
   "cell_type": "code",
   "execution_count": 97,
   "id": "b7c67002",
   "metadata": {},
   "outputs": [
    {
     "data": {
      "text/plain": [
       "city_development_index    0\n",
       "gender                    0\n",
       "relevent_experience       0\n",
       "enrolled_university       0\n",
       "education_level           0\n",
       "major_discipline          0\n",
       "experience                0\n",
       "company_size              0\n",
       "company_type              0\n",
       "last_new_job              0\n",
       "training_hours            0\n",
       "target                    0\n",
       "dtype: int64"
      ]
     },
     "execution_count": 97,
     "metadata": {},
     "output_type": "execute_result"
    }
   ],
   "source": [
    "df.isnull().sum()"
   ]
  },
  {
   "cell_type": "code",
   "execution_count": 100,
   "id": "afa93f5a",
   "metadata": {},
   "outputs": [
    {
     "data": {
      "text/html": [
       "<div>\n",
       "<style scoped>\n",
       "    .dataframe tbody tr th:only-of-type {\n",
       "        vertical-align: middle;\n",
       "    }\n",
       "\n",
       "    .dataframe tbody tr th {\n",
       "        vertical-align: top;\n",
       "    }\n",
       "\n",
       "    .dataframe thead th {\n",
       "        text-align: right;\n",
       "    }\n",
       "</style>\n",
       "<table border=\"1\" class=\"dataframe\">\n",
       "  <thead>\n",
       "    <tr style=\"text-align: right;\">\n",
       "      <th></th>\n",
       "      <th>city_development_index</th>\n",
       "      <th>gender</th>\n",
       "      <th>relevent_experience</th>\n",
       "      <th>enrolled_university</th>\n",
       "      <th>education_level</th>\n",
       "      <th>major_discipline</th>\n",
       "      <th>experience</th>\n",
       "      <th>company_size</th>\n",
       "      <th>company_type</th>\n",
       "      <th>last_new_job</th>\n",
       "      <th>training_hours</th>\n",
       "      <th>target</th>\n",
       "    </tr>\n",
       "  </thead>\n",
       "  <tbody>\n",
       "    <tr>\n",
       "      <th>4030</th>\n",
       "      <td>0.90</td>\n",
       "      <td>Male</td>\n",
       "      <td>YES</td>\n",
       "      <td>no_enrollment</td>\n",
       "      <td>Masters</td>\n",
       "      <td>STEM</td>\n",
       "      <td>DOMINATE_BUSINESS</td>\n",
       "      <td>LOCAL</td>\n",
       "      <td>Pvt Ltd</td>\n",
       "      <td>LITTLE_TIME</td>\n",
       "      <td>129</td>\n",
       "      <td>0.0</td>\n",
       "    </tr>\n",
       "    <tr>\n",
       "      <th>6086</th>\n",
       "      <td>0.91</td>\n",
       "      <td>Male</td>\n",
       "      <td>YES</td>\n",
       "      <td>no_enrollment</td>\n",
       "      <td>Graduate</td>\n",
       "      <td>STEM</td>\n",
       "      <td>DOMINATE_BUSINESS</td>\n",
       "      <td>EXTENDED</td>\n",
       "      <td>Pvt Ltd</td>\n",
       "      <td>LITTLE_TIME</td>\n",
       "      <td>44</td>\n",
       "      <td>0.0</td>\n",
       "    </tr>\n",
       "    <tr>\n",
       "      <th>12478</th>\n",
       "      <td>0.62</td>\n",
       "      <td>Male</td>\n",
       "      <td>YES</td>\n",
       "      <td>no_enrollment</td>\n",
       "      <td>Masters</td>\n",
       "      <td>STEM</td>\n",
       "      <td>MIDDLE_EXPERIENCE</td>\n",
       "      <td>SMALL</td>\n",
       "      <td>Pvt Ltd</td>\n",
       "      <td>NEVER</td>\n",
       "      <td>54</td>\n",
       "      <td>1.0</td>\n",
       "    </tr>\n",
       "    <tr>\n",
       "      <th>13501</th>\n",
       "      <td>0.91</td>\n",
       "      <td>Male</td>\n",
       "      <td>NO</td>\n",
       "      <td>no_enrollment</td>\n",
       "      <td>Graduate</td>\n",
       "      <td>STEM</td>\n",
       "      <td>MIDDLE_EXPERIENCE</td>\n",
       "      <td>UPPER_SCALE</td>\n",
       "      <td>Pvt Ltd</td>\n",
       "      <td>LITTLE_TIME</td>\n",
       "      <td>58</td>\n",
       "      <td>0.0</td>\n",
       "    </tr>\n",
       "    <tr>\n",
       "      <th>16426</th>\n",
       "      <td>0.92</td>\n",
       "      <td>Male</td>\n",
       "      <td>YES</td>\n",
       "      <td>no_enrollment</td>\n",
       "      <td>Graduate</td>\n",
       "      <td>STEM</td>\n",
       "      <td>MIDDLE_EXPERIENCE</td>\n",
       "      <td>LOCAL</td>\n",
       "      <td>Pvt Ltd</td>\n",
       "      <td>LITTLE_TIME</td>\n",
       "      <td>78</td>\n",
       "      <td>0.0</td>\n",
       "    </tr>\n",
       "  </tbody>\n",
       "</table>\n",
       "</div>"
      ],
      "text/plain": [
       "       city_development_index gender relevent_experience enrolled_university  \\\n",
       "4030                     0.90   Male                 YES       no_enrollment   \n",
       "6086                     0.91   Male                 YES       no_enrollment   \n",
       "12478                    0.62   Male                 YES       no_enrollment   \n",
       "13501                    0.91   Male                  NO       no_enrollment   \n",
       "16426                    0.92   Male                 YES       no_enrollment   \n",
       "\n",
       "      education_level major_discipline         experience company_size  \\\n",
       "4030          Masters             STEM  DOMINATE_BUSINESS        LOCAL   \n",
       "6086         Graduate             STEM  DOMINATE_BUSINESS     EXTENDED   \n",
       "12478         Masters             STEM  MIDDLE_EXPERIENCE        SMALL   \n",
       "13501        Graduate             STEM  MIDDLE_EXPERIENCE  UPPER_SCALE   \n",
       "16426        Graduate             STEM  MIDDLE_EXPERIENCE        LOCAL   \n",
       "\n",
       "      company_type last_new_job  training_hours  target  \n",
       "4030       Pvt Ltd  LITTLE_TIME             129     0.0  \n",
       "6086       Pvt Ltd  LITTLE_TIME              44     0.0  \n",
       "12478      Pvt Ltd        NEVER              54     1.0  \n",
       "13501      Pvt Ltd  LITTLE_TIME              58     0.0  \n",
       "16426      Pvt Ltd  LITTLE_TIME              78     0.0  "
      ]
     },
     "execution_count": 100,
     "metadata": {},
     "output_type": "execute_result"
    }
   ],
   "source": [
    "df.sample(5)"
   ]
  },
  {
   "cell_type": "code",
   "execution_count": 103,
   "id": "d998da05",
   "metadata": {},
   "outputs": [
    {
     "name": "stdout",
     "output_type": "stream",
     "text": [
      "Requirement already satisfied: xgboost in c:\\users\\easan\\anaconda3\\lib\\site-packages (1.4.2)\n",
      "Requirement already satisfied: numpy in c:\\users\\easan\\anaconda3\\lib\\site-packages (from xgboost) (1.19.5)\n",
      "Requirement already satisfied: scipy in c:\\users\\easan\\anaconda3\\lib\\site-packages (from xgboost) (1.6.2)\n",
      "Note: you may need to restart the kernel to use updated packages.\n"
     ]
    }
   ],
   "source": [
    "pip install xgboost "
   ]
  },
  {
   "cell_type": "code",
   "execution_count": 106,
   "id": "3803bfbd",
   "metadata": {},
   "outputs": [],
   "source": [
    "def classification_funct(dataset,column_to_be_studied):\n",
    "    from sklearn.naive_bayes import GaussianNB\n",
    "    from sklearn.naive_bayes import BernoulliNB\n",
    "    from sklearn.svm import SVC\n",
    "    from sklearn.neighbors import KNeighborsClassifier\n",
    "    from sklearn.tree import DecisionTreeClassifier\n",
    "    from sklearn.ensemble import RandomForestClassifier\n",
    "    from sklearn.linear_model import LogisticRegression\n",
    "    from xgboost import XGBClassifier #yüklemek için !pip install xgboost kullandım\n",
    "    \n",
    "    from sklearn.model_selection import train_test_split\n",
    "    \n",
    "    from sklearn.metrics import accuracy_score,precision_score,recall_score,f1_score\n",
    "    from sklearn.metrics import confusion_matrix,classification_report\n",
    "       \n",
    "    dataset=dataset[dataset[column_to_be_studied].notnull()]\n",
    "    x,y=dataset.drop(column_to_be_studied,axis=1),dataset[[column_to_be_studied]]    \n",
    "    x=pd.get_dummies(x,drop_first=True)\n",
    "    x_train,x_test,y_train,y_test=train_test_split(x,y,test_size=0.2,random_state=42)\n",
    "\n",
    "    g=GaussianNB()\n",
    "    b=BernoulliNB()\n",
    "    KN=KNeighborsClassifier()\n",
    "    SVC=SVC() \n",
    "    D=DecisionTreeClassifier()\n",
    "    R=RandomForestClassifier()\n",
    "    Log=LogisticRegression()\n",
    "    XGB=XGBClassifier()\n",
    "    \n",
    "    algos=[g,b,KN,SVC,D,R,Log,XGB]\n",
    "    algo_names=['GaussianNB','BernoulliNB','KNeighborsClassifier','SVC','DecisionTreeClassifier','RandomForestClassifier','LogisticRegression','XGBClassifier']\n",
    "   \n",
    "    accuracy_scored=[]\n",
    "    precision_scored=[]\n",
    "    recall_scored=[]\n",
    "    f1_scored=[]\n",
    "    \n",
    "    for item in algos:\n",
    "        item.fit(x_train,y_train)\n",
    "        item.predict(x_test)\n",
    "        accuracy_scored.append(accuracy_score(y_test,item.predict(x_test)))\n",
    "        precision_scored.append(precision_score(y_test,item.predict(x_test)))\n",
    "        recall_scored.append(recall_score(y_test,item.predict(x_test)))\n",
    "        f1_scored.append(f1_score(y_test,item.predict(x_test)))\n",
    "      \n",
    "    result=pd.DataFrame(columns=['f1_score','recall_score','precision_score','accuracy_score'],index=algo_names)\n",
    "    result['f1_score']=f1_scored\n",
    "    result['recall_score']=recall_scored\n",
    "    result['precision_score']=precision_scored\n",
    "    result['accuracy_score']=accuracy_scored\n",
    "    return result.sort_values('accuracy_score',ascending=False)"
   ]
  },
  {
   "cell_type": "code",
   "execution_count": 107,
   "id": "5eed8b52",
   "metadata": {},
   "outputs": [
    {
     "name": "stdout",
     "output_type": "stream",
     "text": [
      "[00:13:44] WARNING: C:/Users/Administrator/workspace/xgboost-win64_release_1.4.0/src/learner.cc:1095: Starting in XGBoost 1.3.0, the default evaluation metric used with the objective 'binary:logistic' was changed from 'error' to 'logloss'. Explicitly set eval_metric if you'd like to restore the old behavior.\n"
     ]
    },
    {
     "data": {
      "text/html": [
       "<div>\n",
       "<style scoped>\n",
       "    .dataframe tbody tr th:only-of-type {\n",
       "        vertical-align: middle;\n",
       "    }\n",
       "\n",
       "    .dataframe tbody tr th {\n",
       "        vertical-align: top;\n",
       "    }\n",
       "\n",
       "    .dataframe thead th {\n",
       "        text-align: right;\n",
       "    }\n",
       "</style>\n",
       "<table border=\"1\" class=\"dataframe\">\n",
       "  <thead>\n",
       "    <tr style=\"text-align: right;\">\n",
       "      <th></th>\n",
       "      <th>f1_score</th>\n",
       "      <th>recall_score</th>\n",
       "      <th>precision_score</th>\n",
       "      <th>accuracy_score</th>\n",
       "    </tr>\n",
       "  </thead>\n",
       "  <tbody>\n",
       "    <tr>\n",
       "      <th>XGBClassifier</th>\n",
       "      <td>0.473209</td>\n",
       "      <td>0.412815</td>\n",
       "      <td>0.554302</td>\n",
       "      <td>0.771660</td>\n",
       "    </tr>\n",
       "    <tr>\n",
       "      <th>LogisticRegression</th>\n",
       "      <td>0.360373</td>\n",
       "      <td>0.263655</td>\n",
       "      <td>0.569161</td>\n",
       "      <td>0.767484</td>\n",
       "    </tr>\n",
       "    <tr>\n",
       "      <th>SVC</th>\n",
       "      <td>0.000000</td>\n",
       "      <td>0.000000</td>\n",
       "      <td>0.000000</td>\n",
       "      <td>0.751566</td>\n",
       "    </tr>\n",
       "    <tr>\n",
       "      <th>RandomForestClassifier</th>\n",
       "      <td>0.422871</td>\n",
       "      <td>0.372899</td>\n",
       "      <td>0.488308</td>\n",
       "      <td>0.747129</td>\n",
       "    </tr>\n",
       "    <tr>\n",
       "      <th>BernoulliNB</th>\n",
       "      <td>0.349515</td>\n",
       "      <td>0.302521</td>\n",
       "      <td>0.413793</td>\n",
       "      <td>0.720251</td>\n",
       "    </tr>\n",
       "    <tr>\n",
       "      <th>KNeighborsClassifier</th>\n",
       "      <td>0.278146</td>\n",
       "      <td>0.220588</td>\n",
       "      <td>0.376344</td>\n",
       "      <td>0.715553</td>\n",
       "    </tr>\n",
       "    <tr>\n",
       "      <th>DecisionTreeClassifier</th>\n",
       "      <td>0.400612</td>\n",
       "      <td>0.412815</td>\n",
       "      <td>0.389109</td>\n",
       "      <td>0.693111</td>\n",
       "    </tr>\n",
       "    <tr>\n",
       "      <th>GaussianNB</th>\n",
       "      <td>0.476602</td>\n",
       "      <td>0.636555</td>\n",
       "      <td>0.380893</td>\n",
       "      <td>0.652662</td>\n",
       "    </tr>\n",
       "  </tbody>\n",
       "</table>\n",
       "</div>"
      ],
      "text/plain": [
       "                        f1_score  recall_score  precision_score  \\\n",
       "XGBClassifier           0.473209      0.412815         0.554302   \n",
       "LogisticRegression      0.360373      0.263655         0.569161   \n",
       "SVC                     0.000000      0.000000         0.000000   \n",
       "RandomForestClassifier  0.422871      0.372899         0.488308   \n",
       "BernoulliNB             0.349515      0.302521         0.413793   \n",
       "KNeighborsClassifier    0.278146      0.220588         0.376344   \n",
       "DecisionTreeClassifier  0.400612      0.412815         0.389109   \n",
       "GaussianNB              0.476602      0.636555         0.380893   \n",
       "\n",
       "                        accuracy_score  \n",
       "XGBClassifier                 0.771660  \n",
       "LogisticRegression            0.767484  \n",
       "SVC                           0.751566  \n",
       "RandomForestClassifier        0.747129  \n",
       "BernoulliNB                   0.720251  \n",
       "KNeighborsClassifier          0.715553  \n",
       "DecisionTreeClassifier        0.693111  \n",
       "GaussianNB                    0.652662  "
      ]
     },
     "execution_count": 107,
     "metadata": {},
     "output_type": "execute_result"
    }
   ],
   "source": [
    "classification_funct(df,\"target\")"
   ]
  },
  {
   "cell_type": "markdown",
   "id": "aeaec3ec",
   "metadata": {},
   "source": [
    "## Deep Learning Uygulanırsa?"
   ]
  },
  {
   "cell_type": "code",
   "execution_count": 115,
   "id": "fe9907eb",
   "metadata": {},
   "outputs": [],
   "source": [
    "from tensorflow.keras.models import Sequential\n",
    "from tensorflow.keras.layers import Dense"
   ]
  },
  {
   "cell_type": "code",
   "execution_count": 109,
   "id": "e3cfd6ee",
   "metadata": {},
   "outputs": [],
   "source": [
    "model=Sequential()\n",
    "model.add(Dense(512,activation='relu'))\n",
    "model.add(Dense(512,activation='relu'))\n",
    "model.add(Dense(512,activation='relu'))\n",
    "model.add(Dense(512,activation='relu'))\n",
    "model.add(Dense(1,activation='sigmoid'))"
   ]
  },
  {
   "cell_type": "code",
   "execution_count": 110,
   "id": "cfdf1269",
   "metadata": {},
   "outputs": [],
   "source": [
    "model.compile(loss='binary_crossentropy',optimizer=\"adam\",metrics=[\"accuracy\"])"
   ]
  },
  {
   "cell_type": "code",
   "execution_count": 112,
   "id": "febd20d2",
   "metadata": {},
   "outputs": [],
   "source": [
    "x,y=df.drop(\"target\",axis=1),df[[\"target\"]]    \n",
    "x=pd.get_dummies(x,drop_first=True)"
   ]
  },
  {
   "cell_type": "code",
   "execution_count": 116,
   "id": "aacc964d",
   "metadata": {},
   "outputs": [
    {
     "name": "stdout",
     "output_type": "stream",
     "text": [
      "Epoch 1/30\n",
      "384/384 [==============================] - 3s 8ms/step - loss: 0.4722 - accuracy: 0.7771\n",
      "Epoch 2/30\n",
      "384/384 [==============================] - 3s 8ms/step - loss: 0.4698 - accuracy: 0.7783\n",
      "Epoch 3/30\n",
      "384/384 [==============================] - 3s 8ms/step - loss: 0.4658 - accuracy: 0.7787\n",
      "Epoch 4/30\n",
      "384/384 [==============================] - 3s 8ms/step - loss: 0.4632 - accuracy: 0.7800\n",
      "Epoch 5/30\n",
      "384/384 [==============================] - 3s 9ms/step - loss: 0.4617 - accuracy: 0.7848\n",
      "Epoch 6/30\n",
      "384/384 [==============================] - 3s 9ms/step - loss: 0.4590 - accuracy: 0.7857\n",
      "Epoch 7/30\n",
      "384/384 [==============================] - 3s 8ms/step - loss: 0.4579 - accuracy: 0.7829\n",
      "Epoch 8/30\n",
      "384/384 [==============================] - 3s 8ms/step - loss: 0.4551 - accuracy: 0.7859\n",
      "Epoch 9/30\n",
      "384/384 [==============================] - 4s 9ms/step - loss: 0.4574 - accuracy: 0.7863\n",
      "Epoch 10/30\n",
      "384/384 [==============================] - 4s 10ms/step - loss: 0.4547 - accuracy: 0.7845\n",
      "Epoch 11/30\n",
      "384/384 [==============================] - 3s 9ms/step - loss: 0.4541 - accuracy: 0.7851\n",
      "Epoch 12/30\n",
      "384/384 [==============================] - 4s 9ms/step - loss: 0.4481 - accuracy: 0.7885\n",
      "Epoch 13/30\n",
      "384/384 [==============================] - 4s 10ms/step - loss: 0.4509 - accuracy: 0.7885\n",
      "Epoch 14/30\n",
      "384/384 [==============================] - 3s 9ms/step - loss: 0.4549 - accuracy: 0.7826\n",
      "Epoch 15/30\n",
      "384/384 [==============================] - 3s 9ms/step - loss: 0.4447 - accuracy: 0.7899\n",
      "Epoch 16/30\n",
      "384/384 [==============================] - 3s 8ms/step - loss: 0.4456 - accuracy: 0.7901\n",
      "Epoch 17/30\n",
      "384/384 [==============================] - 3s 9ms/step - loss: 0.4476 - accuracy: 0.7905\n",
      "Epoch 18/30\n",
      "384/384 [==============================] - 3s 9ms/step - loss: 0.4446 - accuracy: 0.7925\n",
      "Epoch 19/30\n",
      "384/384 [==============================] - 3s 9ms/step - loss: 0.4405 - accuracy: 0.7943\n",
      "Epoch 20/30\n",
      "384/384 [==============================] - 3s 9ms/step - loss: 0.4416 - accuracy: 0.7925\n",
      "Epoch 21/30\n",
      "384/384 [==============================] - 3s 9ms/step - loss: 0.4378 - accuracy: 0.7925\n",
      "Epoch 22/30\n",
      "384/384 [==============================] - 3s 9ms/step - loss: 0.4366 - accuracy: 0.7958\n",
      "Epoch 23/30\n",
      "384/384 [==============================] - 4s 11ms/step - loss: 0.4350 - accuracy: 0.7953\n",
      "Epoch 24/30\n",
      "384/384 [==============================] - 4s 9ms/step - loss: 0.4380 - accuracy: 0.7951\n",
      "Epoch 25/30\n",
      "384/384 [==============================] - 3s 8ms/step - loss: 0.4335 - accuracy: 0.7972\n",
      "Epoch 26/30\n",
      "384/384 [==============================] - 3s 8ms/step - loss: 0.4301 - accuracy: 0.7992\n",
      "Epoch 27/30\n",
      "384/384 [==============================] - 3s 8ms/step - loss: 0.4346 - accuracy: 0.7988\n",
      "Epoch 28/30\n",
      "384/384 [==============================] - 3s 9ms/step - loss: 0.4295 - accuracy: 0.7994\n",
      "Epoch 29/30\n",
      "384/384 [==============================] - 3s 8ms/step - loss: 0.4283 - accuracy: 0.7996\n",
      "Epoch 30/30\n",
      "384/384 [==============================] - 3s 8ms/step - loss: 0.4256 - accuracy: 0.8028\n"
     ]
    },
    {
     "data": {
      "text/plain": [
       "<tensorflow.python.keras.callbacks.History at 0x2fbe17c4280>"
      ]
     },
     "execution_count": 116,
     "metadata": {},
     "output_type": "execute_result"
    }
   ],
   "source": [
    "model.fit(x,y,epochs=30,batch_size=50,verbose=1)"
   ]
  },
  {
   "cell_type": "code",
   "execution_count": 117,
   "id": "48041263",
   "metadata": {},
   "outputs": [
    {
     "name": "stdout",
     "output_type": "stream",
     "text": [
      "Model: \"sequential\"\n",
      "_________________________________________________________________\n",
      "Layer (type)                 Output Shape              Param #   \n",
      "=================================================================\n",
      "dense (Dense)                (None, 512)               16896     \n",
      "_________________________________________________________________\n",
      "dense_1 (Dense)              (None, 512)               262656    \n",
      "_________________________________________________________________\n",
      "dense_2 (Dense)              (None, 512)               262656    \n",
      "_________________________________________________________________\n",
      "dense_3 (Dense)              (None, 512)               262656    \n",
      "_________________________________________________________________\n",
      "dense_4 (Dense)              (None, 1)                 513       \n",
      "=================================================================\n",
      "Total params: 805,377\n",
      "Trainable params: 805,377\n",
      "Non-trainable params: 0\n",
      "_________________________________________________________________\n"
     ]
    }
   ],
   "source": [
    "model.summary()"
   ]
  },
  {
   "cell_type": "code",
   "execution_count": 118,
   "id": "489bad29",
   "metadata": {},
   "outputs": [
    {
     "name": "stdout",
     "output_type": "stream",
     "text": [
      "599/599 [==============================] - 2s 2ms/step - loss: 0.4379 - accuracy: 0.7887\n"
     ]
    }
   ],
   "source": [
    "scores=model.evaluate(x,y)"
   ]
  },
  {
   "cell_type": "code",
   "execution_count": 119,
   "id": "cecaccc6",
   "metadata": {},
   "outputs": [
    {
     "name": "stdout",
     "output_type": "stream",
     "text": [
      "accuracy: 78.87%\n"
     ]
    }
   ],
   "source": [
    "print(\"%s: %.2f%%\" % (model.metrics_names[1],scores[1]*100))"
   ]
  },
  {
   "cell_type": "code",
   "execution_count": null,
   "id": "a5f7bed7",
   "metadata": {},
   "outputs": [],
   "source": []
  }
 ],
 "metadata": {
  "kernelspec": {
   "display_name": "Python 3",
   "language": "python",
   "name": "python3"
  },
  "language_info": {
   "codemirror_mode": {
    "name": "ipython",
    "version": 3
   },
   "file_extension": ".py",
   "mimetype": "text/x-python",
   "name": "python",
   "nbconvert_exporter": "python",
   "pygments_lexer": "ipython3",
   "version": "3.8.8"
  }
 },
 "nbformat": 4,
 "nbformat_minor": 5
}
